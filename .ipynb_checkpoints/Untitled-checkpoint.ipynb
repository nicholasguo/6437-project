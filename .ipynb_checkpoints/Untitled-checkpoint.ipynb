{
 "cells": [
  {
   "cell_type": "code",
   "execution_count": 14,
   "metadata": {},
   "outputs": [],
   "source": [
    "import decode\n",
    "import matplotlib.pyplot as plt"
   ]
  },
  {
   "cell_type": "code",
   "execution_count": 2,
   "metadata": {
    "collapsed": true
   },
   "outputs": [],
   "source": [
    "ciphertext = open(\"data/test/ciphertext.txt\", \"r\").read()"
   ]
  },
  {
   "cell_type": "code",
   "execution_count": 3,
   "metadata": {},
   "outputs": [],
   "source": [
    "plaintext = open(\"data/test/plaintext.txt\", \"r\").read()"
   ]
  },
  {
   "cell_type": "code",
   "execution_count": 10,
   "metadata": {},
   "outputs": [
    {
     "name": "stdout",
     "output_type": "stream",
     "text": [
      "sbcdefghijklmnopqratuvwxyz .\n",
      "agnjldirvow xzt.syfqukbempch\n",
      "axtsck.peunorgbwqvhydjmfi lz\n",
      "axtlcd.phoyergbqjzufmksvn iw\n",
      "ixtlwu.chrdeogpqjzyfmbsvn ak\n",
      "ixtrwy.chudeogpjqzlfmbsvn ak\n",
      "ixtrwy.chudeogpjqzlfmbsvn ak\n",
      "ixtrwy.chudeogpjqzlfmbsvn ak\n",
      "ixtrwy.chudeogpjqzmflbsvn ak\n",
      "ixtrwy.chudeogpjqzmflbsvn ak\n"
     ]
    }
   ],
   "source": [
    "decoded, likelihoods, accepted, accuracies = decode.decode_plot(ciphertext, plaintext, False)"
   ]
  },
  {
   "cell_type": "code",
   "execution_count": 24,
   "metadata": {},
   "outputs": [
    {
     "data": {
      "image/png": "[encoded data removed]",
      "text/plain": [
       "<matplotlib.figure.Figure at 0x120e6bdd8>"
      ]
     },
     "metadata": {},
     "output_type": "display_data"
    }
   ],
   "source": [
    "plt = matplotlib.pyplot\n",
    "plt.plot(likelihoods)\n",
    "plt.axis([0, len(likelihoods), 0, -100000])\n",
    "plt.show()"
   ]
  },
  {
   "cell_type": "code",
   "execution_count": 9,
   "metadata": {},
   "outputs": [
    {
     "data": {
      "text/plain": [
       "1e-101"
      ]
     },
     "execution_count": 9,
     "metadata": {},
     "output_type": "execute_result"
    }
   ],
   "source": []
  },
  {
   "cell_type": "code",
   "execution_count": null,
   "metadata": {
    "collapsed": true
   },
   "outputs": [],
   "source": []
  }
 ],
 "metadata": {
  "kernelspec": {
   "display_name": "Python 3",
   "language": "python",
   "name": "python3"
  },
  "language_info": {
   "codemirror_mode": {
    "name": "ipython",
    "version": 3
   },
   "file_extension": ".py",
   "mimetype": "text/x-python",
   "name": "python",
   "nbconvert_exporter": "python",
   "pygments_lexer": "ipython3",
   "version": "3.6.3"
  }
 },
 "nbformat": 4,
 "nbformat_minor": 2
}
