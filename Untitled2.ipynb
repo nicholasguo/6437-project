{
 "cells": [
  {
   "cell_type": "code",
   "execution_count": 1,
   "metadata": {},
   "outputs": [
    {
     "ename": "SyntaxError",
     "evalue": "invalid syntax (decode.py, line 111)",
     "output_type": "error",
     "traceback": [
      "Traceback \u001b[0;36m(most recent call last)\u001b[0m:\n",
      "  File \u001b[1;32m\"/Users/nicholasguo/anaconda3/lib/python3.6/site-packages/IPython/core/interactiveshell.py\"\u001b[0m, line \u001b[1;32m2862\u001b[0m, in \u001b[1;35mrun_code\u001b[0m\n    exec(code_obj, self.user_global_ns, self.user_ns)\n",
      "\u001b[0;36m  File \u001b[0;32m\"<ipython-input-1-699f9d936456>\"\u001b[0;36m, line \u001b[0;32m1\u001b[0;36m, in \u001b[0;35m<module>\u001b[0;36m\u001b[0m\n\u001b[0;31m    import decode\u001b[0m\n",
      "\u001b[0;36m  File \u001b[0;32m\"/Users/nicholasguo/Downloads/6437project/decode.py\"\u001b[0;36m, line \u001b[0;32m111\u001b[0m\n\u001b[0;31m    if lol * len(ciphertext) > MAX_TRANS / 5\u001b[0m\n\u001b[0m                                            ^\u001b[0m\n\u001b[0;31mSyntaxError\u001b[0m\u001b[0;31m:\u001b[0m invalid syntax\n"
     ]
    }
   ],
   "source": [
    "import decode\n",
    "import encode\n",
    "import math\n",
    "import matplotlib\n",
    "import matplotlib.pyplot as plt\n",
    "import time"
   ]
  },
  {
   "cell_type": "code",
   "execution_count": null,
   "metadata": {},
   "outputs": [],
   "source": [
    "text = open(\"data/texts/feynman.txt\", \"r\").read()\n",
    "text"
   ]
  },
  {
   "cell_type": "code",
   "execution_count": null,
   "metadata": {},
   "outputs": [],
   "source": [
    "len(text)"
   ]
  },
  {
   "cell_type": "code",
   "execution_count": null,
   "metadata": {},
   "outputs": [],
   "source": [
    "plaintext = text[1234:1657]\n",
    "print(plaintext)\n",
    "ciphertext = encode.encode_with_breakpoint(plaintext)\n",
    "print(ciphertext)\n",
    "start = time.time()\n",
    "guess = decode.decode(ciphertext, True, DEBUG=True)\n",
    "end = time.time()\n",
    "print(guess)\n",
    "print(end - start)\n",
    "decode.accuracy(guess, plaintext)"
   ]
  },
  {
   "cell_type": "code",
   "execution_count": null,
   "metadata": {},
   "outputs": [],
   "source": [
    "plaintext = text[234:657]\n",
    "ciphertext = encode.encode(plaintext)\n",
    "print(ciphertext)\n",
    "start = time.time()\n",
    "guess = decode.decode(ciphertext, False, DEBUG=True)\n",
    "end = time.time()\n",
    "print(guess)\n",
    "print(end - start)\n",
    "decode.accuracy(guess, plaintext)"
   ]
  },
  {
   "cell_type": "code",
   "execution_count": null,
   "metadata": {},
   "outputs": [],
   "source": [
    "657 - 234"
   ]
  },
  {
   "cell_type": "code",
   "execution_count": null,
   "metadata": {
    "collapsed": true
   },
   "outputs": [],
   "source": []
  }
 ],
 "metadata": {
  "kernelspec": {
   "display_name": "Python 3",
   "language": "python",
   "name": "python3"
  },
  "language_info": {
   "codemirror_mode": {
    "name": "ipython",
    "version": 3
   },
   "file_extension": ".py",
   "mimetype": "text/x-python",
   "name": "python",
   "nbconvert_exporter": "python",
   "pygments_lexer": "ipython3",
   "version": "3.6.3"
  }
 },
 "nbformat": 4,
 "nbformat_minor": 2
}
